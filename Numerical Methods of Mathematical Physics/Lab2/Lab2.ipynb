{
 "cells": [
  {
   "cell_type": "markdown",
   "id": "511e8347",
   "metadata": {},
   "source": [
    "# Galerkin method of building difference scheme"
   ]
  },
  {
   "cell_type": "code",
   "execution_count": 4,
   "id": "7d0ee075",
   "metadata": {},
   "outputs": [],
   "source": [
    "import numpy as np\n",
    "import matplotlib.pyplot as plt"
   ]
  },
  {
   "cell_type": "code",
   "execution_count": 5,
   "id": "59f7ef30",
   "metadata": {},
   "outputs": [],
   "source": [
    "h = 0.01\n",
    "a = 0\n",
    "b = 1\n",
    "\n",
    "def u(x):\n",
    "    return x + np.exp(x ** 2)\n",
    "\n",
    "def K(x):\n",
    "    return 1\n",
    "\n",
    "def r(x):\n",
    "    return -2 * x\n",
    "\n",
    "def q(x):\n",
    "    return 2\n",
    "\n",
    "def F(x):\n",
    "    return 4 * x\n",
    "\n",
    "kappa_0 = 1\n",
    "g_0 = 0\n",
    "kappa_1 = 1\n",
    "g_1 = 2 + 3 * np.exp(1)"
   ]
  },
  {
   "cell_type": "code",
   "execution_count": 107,
   "id": "8d9af13a",
   "metadata": {},
   "outputs": [],
   "source": [
    "def sweep_method(ax, bx, h, K, r, q, F, kappa_0, g_0, kappa_1, g_1):\n",
    "    N = int((bx - ax) / h)\n",
    "    x = [h * i for i in range(N + 1)]\n",
    "    a = [0] * (N + 1)\n",
    "    b = [0] * (N + 1)\n",
    "    c = [0] * (N + 1)\n",
    "    f = [0] * (N + 1)\n",
    "    \n",
    "    c[0] = (K(x[1] - h / 2) - h ** 2 / 6 * q(x[1] - h / 2) + r(x[0] + h / 2) / 2 * h) / h + kappa_0 + h / 2 * q(x[0] + h / 2)\n",
    "    b[0] = (K(x[1] - h / 2) - h ** 2 / 6 * q(x[1] - h / 2) + r(x[0] + h / 2) / 2 * h) / h\n",
    "    f[0] = g_0 + h / 2 * F(x[0] + h / 2)\n",
    "    a[N] = (K(x[N] - h / 2) - h ** 2 / 6 * q(x[N] - h / 2) - r(x[N] - h / 2) / 2 * h) / h\n",
    "    c[N] = (K(x[N] - h / 2) - h ** 2 / 6 * q(x[N] - h / 2) - r(x[N] - h / 2) / 2 * h) / h + kappa_1 + h / 2 * q(x[N] - h / 2)\n",
    "    f[N] = g_1 + h / 2 * F(x[N] - h / 2)\n",
    "    \n",
    "    for i in range(1, N):\n",
    "        a[i] = (K(x[i] - h / 2) - h ** 2 / 6 * q(x[i] - h / 2)) / h ** 2 - r(x[i] - h / 2) / 2 / h\n",
    "        c[i] = (K(x[i] - h / 2) - h ** 2 / 6 * q(x[i] - h / 2) + K(x[i + 1] - h / 2) - h ** 2 / 6 * q(x[i + 1] - h / 2)) \\\n",
    "        / h ** 2 + r(x[i] + h / 2) / 2 / h - r(x[i] - h / 2) / 2 / h + (q(x[i] - h / 2) + q(x[i] - h / 2)) / 2\n",
    "        b[i] = (K(x[i + 1] - h / 2) - h ** 2 / 6 * q(x[i + 1] - h / 2)) / h ** 2 + r(x[i] + h / 2) / 2 / h\n",
    "        f[i] = (F(x[i] - h / 2) + F(x[i] + h / 2)) / 2\n",
    "    \n",
    "    alpha = [0] * (N + 1)\n",
    "    beta = [0] * (N + 1)\n",
    "    y = [0] * (N + 1) \n",
    "    alpha[1] = b[0] / c[0]\n",
    "    beta[1] = f[0] / c[0]\n",
    "    \n",
    "    for i in range(1, N):\n",
    "        alpha[i + 1] = b[i] / (c[i] - alpha[i] * a[i])\n",
    "        beta[i + 1] = (f[i] + a[i] * beta[i]) / (c[i] - alpha[i] * a[i])\n",
    "    \n",
    "    y[N] = (f[N] + a[N] * beta[N]) / (c[N] - alpha[N] * a[N])\n",
    "    for i in range(N - 1, -1, - 1):\n",
    "        y[i] = alpha[i + 1] * y[i + 1] + beta[i + 1]\n",
    "    \n",
    "    return x, y"
   ]
  },
  {
   "cell_type": "code",
   "execution_count": 108,
   "id": "78ef6ecc",
   "metadata": {},
   "outputs": [],
   "source": [
    "x, y = sweep_method(a, b, h, K, r, q, F, kappa_0, g_0, kappa_1, g_1)"
   ]
  },
  {
   "cell_type": "code",
   "execution_count": 109,
   "id": "75432de2",
   "metadata": {},
   "outputs": [
    {
     "name": "stdout",
     "output_type": "stream",
     "text": [
      "3.670780167075449e-05\n"
     ]
    }
   ],
   "source": [
    "u_values = [u(xi) for xi in x]\n",
    "print(np.linalg.norm(np.subtract(u_values, y), np.inf))"
   ]
  },
  {
   "cell_type": "code",
   "execution_count": 110,
   "id": "2659bd92",
   "metadata": {},
   "outputs": [
    {
     "data": {
      "image/png": "[encoded data removed]",
      "text/plain": [
       "<Figure size 864x576 with 1 Axes>"
      ]
     },
     "metadata": {
      "needs_background": "light"
     },
     "output_type": "display_data"
    }
   ],
   "source": [
    "plt.figure(figsize=(12, 8))\n",
    "plt.plot(x, u_values, c='g', label='u(x)')\n",
    "plt.scatter(x, y, c='r', label='y(x)')\n",
    "plt.legend(prop={'size': 14})\n",
    "plt.show()"
   ]
  }
 ],
 "metadata": {
  "kernelspec": {
   "display_name": "Python 3 (ipykernel)",
   "language": "python",
   "name": "python3"
  },
  "language_info": {
   "codemirror_mode": {
    "name": "ipython",
    "version": 3
   },
   "file_extension": ".py",
   "mimetype": "text/x-python",
   "name": "python",
   "nbconvert_exporter": "python",
   "pygments_lexer": "ipython3",
   "version": "3.9.7"
  }
 },
 "nbformat": 4,
 "nbformat_minor": 5
}
