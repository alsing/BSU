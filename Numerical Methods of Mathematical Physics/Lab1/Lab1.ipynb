{
 "cells": [
  {
   "cell_type": "markdown",
   "id": "511e8347",
   "metadata": {},
   "source": [
    "# Grid method of solving boundary problem"
   ]
  },
  {
   "cell_type": "code",
   "execution_count": 1,
   "id": "7d0ee075",
   "metadata": {},
   "outputs": [],
   "source": [
    "import numpy as np\n",
    "import matplotlib.pyplot as plt"
   ]
  },
  {
   "cell_type": "code",
   "execution_count": 2,
   "id": "59f7ef30",
   "metadata": {},
   "outputs": [],
   "source": [
    "h = 0.01\n",
    "h_2 = 0.02\n",
    "a = 0\n",
    "b = 1\n",
    "sigma0 = 1\n",
    "mu0 = 0\n",
    "sigma1 = 1\n",
    "mu1 = 2 + 3 * np.exp(1)\n",
    "\n",
    "def u(x):\n",
    "    return x + np.exp(x ** 2)\n",
    "\n",
    "def p(x):\n",
    "    return -2 * x\n",
    "\n",
    "def q(x):\n",
    "    return 2\n",
    "\n",
    "def F(x):\n",
    "    return 4 * x"
   ]
  },
  {
   "cell_type": "code",
   "execution_count": 3,
   "id": "8d9af13a",
   "metadata": {},
   "outputs": [],
   "source": [
    "def sweep_method(ax, bx, h, p, q, F, sigma0, mu0, sigma1, mu1):\n",
    "    N = int((bx - ax) / h)\n",
    "    x = [h * i for i in range(N + 1)]\n",
    "    a = [0] * (N + 1)\n",
    "    b = [0] * (N + 1)\n",
    "    c = [0] * (N + 1)\n",
    "    f = [0] * (N + 1)\n",
    "    \n",
    "    c[0]= 1 / h + sigma0 - h / 2 * p(ax) * sigma0 + h / 2 * q(ax)\n",
    "    b[0] = 1 / h\n",
    "    f[0] = mu0 + h / 2 * F(ax) - h / 2 * p(ax) * mu0\n",
    "    c[N] = 1 / h + sigma1 + h / 2 * p(bx) * sigma1 + h / 2 * q(bx)\n",
    "    a[N] = 1 / h\n",
    "    f[N] = mu1 + h / 2 * F(bx) + h / 2 * p(bx) * mu1\n",
    "    \n",
    "    for i in range(1, N):\n",
    "        a[i] = 1 / h ** 2 - p(x[i]) / (2 * h)\n",
    "        b[i] = 1 / h ** 2 + p(x[i]) / (2 * h)\n",
    "        c[i] = 2 / h ** 2 + q(x[i])\n",
    "        f[i] = F(x[i])\n",
    "    \n",
    "    alpha = [0] * (N + 1)\n",
    "    beta = [0] * (N + 1)\n",
    "    y = [0] * (N + 1) \n",
    "    alpha[1] = b[0] / c[0]\n",
    "    beta[1] = f[0] / c[0]\n",
    "    \n",
    "    for i in range(1, N):\n",
    "        alpha[i + 1] = b[i] / (c[i] - alpha[i] * a[i])\n",
    "        beta[i + 1] = (f[i] + a[i] * beta[i]) / (c[i] - alpha[i] * a[i])\n",
    "    \n",
    "    y[N] = (f[N] + a[N] * beta[N]) / (c[N] - alpha[N] * a[N])\n",
    "    for i in range(N - 1, -1, - 1):\n",
    "        y[i] = alpha[i + 1] * y[i + 1] + beta[i + 1]\n",
    "    \n",
    "    return x, y"
   ]
  },
  {
   "cell_type": "code",
   "execution_count": 4,
   "id": "78ef6ecc",
   "metadata": {},
   "outputs": [],
   "source": [
    "x, y = sweep_method(a, b, h, p, q, F, sigma0, mu0, sigma1, mu1)\n",
    "x_2, y_2 = sweep_method(a, b, h_2, p, q, F, sigma0, mu0, sigma1, mu1)"
   ]
  },
  {
   "cell_type": "code",
   "execution_count": 5,
   "id": "75432de2",
   "metadata": {},
   "outputs": [
    {
     "name": "stdout",
     "output_type": "stream",
     "text": [
      "0.00025994048291355654\n"
     ]
    }
   ],
   "source": [
    "u_values = [u(xi) for xi in x]\n",
    "print(np.linalg.norm(np.subtract(u_values, y), np.inf))"
   ]
  },
  {
   "cell_type": "code",
   "execution_count": 8,
   "id": "6e27c1a2",
   "metadata": {},
   "outputs": [
    {
     "name": "stdout",
     "output_type": "stream",
     "text": [
      "0.0010397539335929018\n"
     ]
    }
   ],
   "source": [
    "u_values_2 = [u(xi) for xi in x_2]\n",
    "print(np.linalg.norm(np.subtract(u_values_2, y_2), np.inf))"
   ]
  },
  {
   "cell_type": "code",
   "execution_count": 9,
   "id": "fe266d58",
   "metadata": {},
   "outputs": [
    {
     "name": "stdout",
     "output_type": "stream",
     "text": [
      "0.00025993781689311507\n"
     ]
    }
   ],
   "source": [
    "y_comp = y[::2]\n",
    "print(np.linalg.norm(np.subtract(y_2, y_comp), np.inf) / 3)"
   ]
  },
  {
   "cell_type": "code",
   "execution_count": 10,
   "id": "2659bd92",
   "metadata": {},
   "outputs": [
    {
     "data": {
      "image/png": "[encoded data removed]",
      "text/plain": [
       "<Figure size 720x504 with 1 Axes>"
      ]
     },
     "metadata": {
      "needs_background": "light"
     },
     "output_type": "display_data"
    }
   ],
   "source": [
    "plt.figure(figsize=(10, 7))\n",
    "plt.plot(x, u_values, c='g')\n",
    "plt.scatter(x, y, c='r')\n",
    "plt.show()"
   ]
  }
 ],
 "metadata": {
  "kernelspec": {
   "display_name": "Python 3 (ipykernel)",
   "language": "python",
   "name": "python3"
  },
  "language_info": {
   "codemirror_mode": {
    "name": "ipython",
    "version": 3
   },
   "file_extension": ".py",
   "mimetype": "text/x-python",
   "name": "python",
   "nbconvert_exporter": "python",
   "pygments_lexer": "ipython3",
   "version": "3.9.7"
  }
 },
 "nbformat": 4,
 "nbformat_minor": 5
}
