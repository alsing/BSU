{
 "cells": [
  {
   "cell_type": "markdown",
   "id": "26695616",
   "metadata": {},
   "source": [
    "# Numerical solution of differential equation systems"
   ]
  },
  {
   "cell_type": "code",
   "execution_count": 39,
   "id": "cfa6b206",
   "metadata": {},
   "outputs": [],
   "source": [
    "import numpy as np\n",
    "import matplotlib.pyplot as plt\n",
    "import pandas as pd"
   ]
  },
  {
   "cell_type": "code",
   "execution_count": 40,
   "id": "ef9189eb",
   "metadata": {},
   "outputs": [],
   "source": [
    "a = 1\n",
    "b = 2\n",
    "\n",
    "def f(t, u):\n",
    "    return [u[1], -t * u[1] - (t ** 2 - 2) / t ** 2 * u[0]]\n",
    "\n",
    "u_0 = [1, -1]\n",
    "\n",
    "def u(t):\n",
    "    return 1 / t"
   ]
  },
  {
   "cell_type": "code",
   "execution_count": 41,
   "id": "25a007c6",
   "metadata": {},
   "outputs": [],
   "source": [
    "h = 0.2\n",
    "h_2 = 0.1\n",
    "\n",
    "N = int((b - a) / h)\n",
    "t = [a + h * i for i in range(N + 1)]\n",
    "N_2 = int((b - a) / h_2)\n",
    "t_2 = [a + h_2 * i for i in range(N_2 + 1)]"
   ]
  },
  {
   "cell_type": "markdown",
   "id": "7c448167",
   "metadata": {},
   "source": [
    "### Runge-Kutta method"
   ]
  },
  {
   "cell_type": "code",
   "execution_count": 42,
   "id": "9312fb53",
   "metadata": {},
   "outputs": [],
   "source": [
    "def rk_method(N, h, t, C, a, b, s, n_var):\n",
    "    y = [u_0]\n",
    "    for i in range(1, N + 1):\n",
    "        K = []\n",
    "        for j in range(s):\n",
    "            K.append(f(t[i - 1] + C[j] * h, [y[i - 1][p] + h * sum([a[j][k] * K[k][p] for k in range(j)]) for p in range(n_var)]))\n",
    "        y.append(y[i - 1] + h * np.dot(np.array(b), np.array(K)))\n",
    "    return [y_i[0] for y_i in y]"
   ]
  },
  {
   "cell_type": "code",
   "execution_count": 43,
   "id": "c6794484",
   "metadata": {},
   "outputs": [],
   "source": [
    "y = rk_method(N, h, t, C=[0, 1, 1/2], a=[[0, 0, 0], [1, 0, 0], [1/4, 1/4, 0]], b=[1/6, 1/6, 2/3], s=3, n_var=2)"
   ]
  },
  {
   "cell_type": "code",
   "execution_count": 44,
   "id": "cd65b4b6",
   "metadata": {},
   "outputs": [],
   "source": [
    "y_2 = rk_method(N_2, h_2, t_2, C=[0, 1, 1/2], a=[[0, 0, 0], [1, 0, 0], [1/4, 1/4, 0]], b=[1/6, 1/6, 2/3], s=3, n_var=2)"
   ]
  },
  {
   "cell_type": "code",
   "execution_count": 45,
   "id": "92808790",
   "metadata": {},
   "outputs": [
    {
     "data": {
      "image/png": "[encoded data removed]",
      "text/plain": [
       "<Figure size 720x504 with 1 Axes>"
      ]
     },
     "metadata": {
      "needs_background": "light"
     },
     "output_type": "display_data"
    }
   ],
   "source": [
    "u_lst = [u(i) for i in t_2]\n",
    "plt.figure(figsize=(10, 7))\n",
    "plt.plot(t_2, u_lst, c='g')\n",
    "plt.scatter(t_2, y_2, c='r')\n",
    "plt.show()"
   ]
  },
  {
   "cell_type": "code",
   "execution_count": 46,
   "id": "01c70816",
   "metadata": {},
   "outputs": [
    {
     "name": "stdout",
     "output_type": "stream",
     "text": [
      "3.488948996821506e-05\n"
     ]
    }
   ],
   "source": [
    "print(np.linalg.norm([u_lst[i] - y_2[i] for i in range(N_2)], np.inf))"
   ]
  },
  {
   "cell_type": "code",
   "execution_count": 47,
   "id": "c5e277b4",
   "metadata": {},
   "outputs": [
    {
     "name": "stdout",
     "output_type": "stream",
     "text": [
      "2.5900749475124156e-05\n"
     ]
    }
   ],
   "source": [
    "m = 3\n",
    "y_2_comp = y_2[::2]\n",
    "print(np.linalg.norm([y[i] - y_2_comp[i] for i in range(N + 1)], np.inf) / (2 ** m - 1))"
   ]
  }
 ],
 "metadata": {
  "kernelspec": {
   "display_name": "Python 3 (ipykernel)",
   "language": "python",
   "name": "python3"
  },
  "language_info": {
   "codemirror_mode": {
    "name": "ipython",
    "version": 3
   },
   "file_extension": ".py",
   "mimetype": "text/x-python",
   "name": "python",
   "nbconvert_exporter": "python",
   "pygments_lexer": "ipython3",
   "version": "3.9.7"
  }
 },
 "nbformat": 4,
 "nbformat_minor": 5
}
