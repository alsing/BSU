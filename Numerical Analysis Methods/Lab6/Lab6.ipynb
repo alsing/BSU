{
 "cells": [
  {
   "cell_type": "markdown",
   "id": "df7078b5",
   "metadata": {},
   "source": [
    "# Numerical solution of integral equations"
   ]
  },
  {
   "cell_type": "code",
   "execution_count": 38,
   "id": "23bd2c4b",
   "metadata": {},
   "outputs": [],
   "source": [
    "import numpy as np\n",
    "import pandas as pd\n",
    "import matplotlib.pyplot as plt"
   ]
  },
  {
   "cell_type": "markdown",
   "id": "e84f6caa",
   "metadata": {},
   "source": [
    "### Method of successive approximations"
   ]
  },
  {
   "cell_type": "code",
   "execution_count": 39,
   "id": "487fa5d9",
   "metadata": {},
   "outputs": [],
   "source": [
    "def simpson_formula(y: list, K, f, lm, N, a, b):\n",
    "    h = (b - a) / N\n",
    "    x = [a + h * k for k in range(N + 1)]\n",
    "    y_new = []\n",
    "    for i in range(N + 1):\n",
    "        I = h / 3 * (K(x[i], x[0]) * y[0] + K(x[i], x[N]) * y[N])\n",
    "        for j in range(0, N, 2):\n",
    "            I += 4 / 3 * h * K(x[i], x[j]) * y[j]\n",
    "        for j in range(2, N, 2):\n",
    "            I += 2 / 3 * h * K(x[i], x[j]) * y[j]\n",
    "        y_new.append(lm * I + f(x[i]))\n",
    "    return y_new\n",
    "\n",
    "\n",
    "def successive_approximations(K, f, lm, eps, a, b, m):\n",
    "    def calculate_y(N):\n",
    "        R_y = np.inf\n",
    "        y_1 = [0 for i in range(N + 1)]\n",
    "        \n",
    "        while R_y > eps / 100:\n",
    "            y_0 = y_1\n",
    "            y_1 = simpson_formula(y_0, K, f, lm, N, a, b)\n",
    "            R_y = np.linalg.norm([y_1[i] - y_0[i] for i in range(N + 1)], np.inf)\n",
    "            \n",
    "        return y_1\n",
    "        \n",
    "        \n",
    "    N = 2\n",
    "    y_1 = calculate_y(N)\n",
    "    \n",
    "    R = np.inf\n",
    "    while R > eps:\n",
    "        N *= 2\n",
    "        y_0 = y_1\n",
    "        y_1 = calculate_y(N)\n",
    "        y_1_comp = y_1[::2]\n",
    "        R = np.linalg.norm([y_1_comp[i] - y_0[i] for i in range(N // 2 + 1)], np.inf) / (2 ** m - 1)\n",
    "        \n",
    "    return y_1"
   ]
  },
  {
   "cell_type": "code",
   "execution_count": 40,
   "id": "4773359d",
   "metadata": {},
   "outputs": [],
   "source": [
    "eps = 5 * 10 ** -5\n",
    "a = 0\n",
    "b = 1\n",
    "m = 4\n",
    "\n",
    "def u(x):\n",
    "    return 1\n",
    "\n",
    "\n",
    "def K(x, s):\n",
    "    return (x + s) / (1 + x + s)\n",
    "\n",
    "\n",
    "def f(x):\n",
    "    return np.log(2 + x) - np.log(1 + x)\n",
    "\n",
    "\n",
    "lm = 1\n",
    "\n",
    "y = successive_approximations(K, f, lm, eps, a, b, m)"
   ]
  },
  {
   "cell_type": "code",
   "execution_count": 41,
   "id": "d4b92c2b",
   "metadata": {},
   "outputs": [
    {
     "data": {
      "image/png": "[encoded data removed]",
      "text/plain": [
       "<Figure size 720x720 with 1 Axes>"
      ]
     },
     "metadata": {
      "needs_background": "light"
     },
     "output_type": "display_data"
    }
   ],
   "source": [
    "h = (b - a) / len(y)\n",
    "x = [a + h * k for k in range(len(y))]\n",
    "u_lst = [u(x_i) for x_i in x]\n",
    "\n",
    "plt.figure(figsize=(10, 10))\n",
    "plt.ylim(0.98, 1.02)\n",
    "plt.plot(x, y)\n",
    "plt.plot(x, u_lst)\n",
    "plt.title('Comparison of approximate and exact solutions')\n",
    "plt.xlabel('x')\n",
    "plt.ylabel('y')\n",
    "plt.show()"
   ]
  },
  {
   "cell_type": "code",
   "execution_count": 42,
   "id": "db0f56a3",
   "metadata": {},
   "outputs": [
    {
     "data": {
      "text/plain": [
       "0.00042999218210182377"
      ]
     },
     "execution_count": 42,
     "metadata": {},
     "output_type": "execute_result"
    }
   ],
   "source": [
    "np.linalg.norm([y[i] - u_lst[i] for i in range(len(y))], np.inf)"
   ]
  },
  {
   "cell_type": "markdown",
   "id": "c11ef1e4",
   "metadata": {},
   "source": [
    "### Quadrature method"
   ]
  },
  {
   "cell_type": "code",
   "execution_count": 43,
   "id": "fea8ef75",
   "metadata": {},
   "outputs": [],
   "source": [
    "def trapeze_formula(K, f, lm, N, a, b):\n",
    "    h = (b - a) / N\n",
    "    x = [a + h * k for k in range(N + 1)]\n",
    "    y = [f(x[0])]\n",
    "    for i in range(1, N + 1):\n",
    "        y_cur = f(x[i]) + lm * h / 2 * K(x[i], x[0]) * y[0]\n",
    "        for j in range(1, i):\n",
    "            y_cur += lm * h * K(x[i], x[j]) * y[j]\n",
    "        y_cur /= (1 - lm * h / 2 * K(x[i], x[i]))\n",
    "        y.append(y_cur)\n",
    "    return y\n",
    "\n",
    "\n",
    "def quadrature_method(K, f, lm, eps, a, b, m):\n",
    "    N = 2\n",
    "    y_1 = trapeze_formula(K, f, lm, N, a, b)\n",
    "    R = np.inf\n",
    "    \n",
    "    while R > eps:\n",
    "        N *= 2\n",
    "        y_0 = y_1\n",
    "        y_1 = trapeze_formula(K, f, lm, N, a, b)\n",
    "        y_1_comp = y_1[::2]\n",
    "        R = np.linalg.norm([y_1_comp[i] - y_0[i] for i in range(N // 2 + 1)], np.inf) / (2 ** m - 1)\n",
    "        \n",
    "    return y_1"
   ]
  },
  {
   "cell_type": "code",
   "execution_count": 44,
   "id": "90d26c2c",
   "metadata": {},
   "outputs": [],
   "source": [
    "eps = 5 * 10 ** -5\n",
    "a = 0\n",
    "b = 1\n",
    "m = 2\n",
    "\n",
    "def u(x):\n",
    "    return 5 * x ** 2\n",
    "\n",
    "\n",
    "def K(x, s):\n",
    "    return x ** 3 * np.cos(x * s)\n",
    "\n",
    "\n",
    "def f(x):\n",
    "    return 5 * x ** 2 - 2 * np.sin(x ** 2) + x ** 4 * np.sin(x ** 2) + 2 * x ** 2 * np.cos(x ** 2)\n",
    "\n",
    "\n",
    "lm = -1 / 5\n",
    "\n",
    "y = quadrature_method(K, f, lm, eps, a, b, m)"
   ]
  },
  {
   "cell_type": "code",
   "execution_count": 45,
   "id": "97958bfa",
   "metadata": {},
   "outputs": [
    {
     "data": {
      "image/png": "[encoded data removed]",
      "text/plain": [
       "<Figure size 720x720 with 1 Axes>"
      ]
     },
     "metadata": {
      "needs_background": "light"
     },
     "output_type": "display_data"
    }
   ],
   "source": [
    "h = (b - a) / len(y)\n",
    "x = [a + h * k for k in range(len(y))]\n",
    "u_lst = [u(x_i) for x_i in x]\n",
    "\n",
    "plt.figure(figsize=(10,10))\n",
    "plt.plot(x, y)\n",
    "plt.plot(x, u_lst)\n",
    "plt.title('Comparison of approximate and exact solutions')\n",
    "plt.xlabel('x')\n",
    "plt.ylabel('y')\n",
    "plt.show()"
   ]
  },
  {
   "cell_type": "code",
   "execution_count": 46,
   "id": "2e2c49ce",
   "metadata": {},
   "outputs": [
    {
     "data": {
      "text/plain": [
       "0.2984216882636028"
      ]
     },
     "execution_count": 46,
     "metadata": {},
     "output_type": "execute_result"
    }
   ],
   "source": [
    "np.linalg.norm([y[i] - u_lst[i] for i in range(len(y))], np.inf)"
   ]
  }
 ],
 "metadata": {
  "kernelspec": {
   "display_name": "Python 3 (ipykernel)",
   "language": "python",
   "name": "python3"
  },
  "language_info": {
   "codemirror_mode": {
    "name": "ipython",
    "version": 3
   },
   "file_extension": ".py",
   "mimetype": "text/x-python",
   "name": "python",
   "nbconvert_exporter": "python",
   "pygments_lexer": "ipython3",
   "version": "3.9.7"
  }
 },
 "nbformat": 4,
 "nbformat_minor": 5
}
