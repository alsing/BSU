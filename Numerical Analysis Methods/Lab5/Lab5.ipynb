{
 "cells": [
  {
   "cell_type": "markdown",
   "id": "154e124b",
   "metadata": {},
   "source": [
    "# Approximate computation of integrals"
   ]
  },
  {
   "cell_type": "code",
   "execution_count": 7,
   "id": "e27567af",
   "metadata": {},
   "outputs": [],
   "source": [
    "import numpy as np\n",
    "import pandas as pd"
   ]
  },
  {
   "cell_type": "code",
   "execution_count": 8,
   "id": "2f224600",
   "metadata": {},
   "outputs": [],
   "source": [
    "eps = 10 ** -7\n",
    "a = 2\n",
    "b = 3\n",
    "\n",
    "def func(x):\n",
    "    return np.exp(x) / (x + np.log(x))"
   ]
  },
  {
   "cell_type": "code",
   "execution_count": 9,
   "id": "86ad54e6",
   "metadata": {},
   "outputs": [],
   "source": [
    "def trapeze_formula(f, N, a, b):\n",
    "    h = (b - a) / N\n",
    "    x_arr = [a + h * k for k in range(N + 1)]\n",
    "    return h * ((f(x_arr[0]) + f(x_arr[N])) / 2 + sum(map(lambda x: f(x), x_arr[1:N])))\n",
    "\n",
    "\n",
    "def simpson_formula(f, N, a, b):\n",
    "    h = (b - a) / N\n",
    "    x_arr = [a + h * k for k in range(N + 1)]\n",
    "    I = 0\n",
    "    for k in range(N):\n",
    "        I += f(x_arr[k]) + 4 * f((x_arr[k] + x_arr[k + 1]) / 2) + f(x_arr[k + 1])\n",
    "    return h / 6 * I\n",
    "    \n",
    "    \n",
    "def compute_integral(formula, eps, a, b, m):\n",
    "    N = 2\n",
    "    Q_1 = formula(func, N, a, b)\n",
    "    R = np.inf\n",
    "    df = pd.DataFrame([{'N': N, 'h': (b - a) / 2, '$Q_h$': Q_1, '$R_h$': '-'}])\n",
    "    \n",
    "    while abs(R) > eps:\n",
    "        N *= 2\n",
    "        Q_0 = Q_1\n",
    "        Q_1 = formula(func, N, a, b)\n",
    "        R = (Q_1 - Q_0) / (2 ** m - 1)\n",
    "        df = pd.concat([df, pd.DataFrame([{'N': N, 'h': (b - a) / N, '$Q_h$': '{:.8f}'.format(Q_1), '$R_h$': '{:.8f}'.format(R)}])], ignore_index=True)\n",
    "    return df"
   ]
  },
  {
   "cell_type": "code",
   "execution_count": 10,
   "id": "5727ac0d",
   "metadata": {},
   "outputs": [
    {
     "data": {
      "text/html": [
       "<div>\n",
       "<style scoped>\n",
       "    .dataframe tbody tr th:only-of-type {\n",
       "        vertical-align: middle;\n",
       "    }\n",
       "\n",
       "    .dataframe tbody tr th {\n",
       "        vertical-align: top;\n",
       "    }\n",
       "\n",
       "    .dataframe thead th {\n",
       "        text-align: right;\n",
       "    }\n",
       "</style>\n",
       "<table border=\"1\" class=\"dataframe\">\n",
       "  <thead>\n",
       "    <tr style=\"text-align: right;\">\n",
       "      <th></th>\n",
       "      <th>N</th>\n",
       "      <th>h</th>\n",
       "      <th>$Q_h$</th>\n",
       "      <th>$R_h$</th>\n",
       "    </tr>\n",
       "  </thead>\n",
       "  <tbody>\n",
       "    <tr>\n",
       "      <th>0</th>\n",
       "      <td>2</td>\n",
       "      <td>0.500000</td>\n",
       "      <td>3.694055</td>\n",
       "      <td>-</td>\n",
       "    </tr>\n",
       "    <tr>\n",
       "      <th>1</th>\n",
       "      <td>4</td>\n",
       "      <td>0.250000</td>\n",
       "      <td>3.66155995</td>\n",
       "      <td>-0.01083184</td>\n",
       "    </tr>\n",
       "    <tr>\n",
       "      <th>2</th>\n",
       "      <td>8</td>\n",
       "      <td>0.125000</td>\n",
       "      <td>3.65340371</td>\n",
       "      <td>-0.00271875</td>\n",
       "    </tr>\n",
       "    <tr>\n",
       "      <th>3</th>\n",
       "      <td>16</td>\n",
       "      <td>0.062500</td>\n",
       "      <td>3.65136258</td>\n",
       "      <td>-0.00068038</td>\n",
       "    </tr>\n",
       "    <tr>\n",
       "      <th>4</th>\n",
       "      <td>32</td>\n",
       "      <td>0.031250</td>\n",
       "      <td>3.65085217</td>\n",
       "      <td>-0.00017014</td>\n",
       "    </tr>\n",
       "    <tr>\n",
       "      <th>5</th>\n",
       "      <td>64</td>\n",
       "      <td>0.015625</td>\n",
       "      <td>3.65072456</td>\n",
       "      <td>-0.00004254</td>\n",
       "    </tr>\n",
       "    <tr>\n",
       "      <th>6</th>\n",
       "      <td>128</td>\n",
       "      <td>0.007812</td>\n",
       "      <td>3.65069265</td>\n",
       "      <td>-0.00001063</td>\n",
       "    </tr>\n",
       "    <tr>\n",
       "      <th>7</th>\n",
       "      <td>256</td>\n",
       "      <td>0.003906</td>\n",
       "      <td>3.65068468</td>\n",
       "      <td>-0.00000266</td>\n",
       "    </tr>\n",
       "    <tr>\n",
       "      <th>8</th>\n",
       "      <td>512</td>\n",
       "      <td>0.001953</td>\n",
       "      <td>3.65068268</td>\n",
       "      <td>-0.00000066</td>\n",
       "    </tr>\n",
       "    <tr>\n",
       "      <th>9</th>\n",
       "      <td>1024</td>\n",
       "      <td>0.000977</td>\n",
       "      <td>3.65068219</td>\n",
       "      <td>-0.00000017</td>\n",
       "    </tr>\n",
       "    <tr>\n",
       "      <th>10</th>\n",
       "      <td>2048</td>\n",
       "      <td>0.000488</td>\n",
       "      <td>3.65068206</td>\n",
       "      <td>-0.00000004</td>\n",
       "    </tr>\n",
       "  </tbody>\n",
       "</table>\n",
       "</div>"
      ],
      "text/plain": [
       "       N         h       $Q_h$        $R_h$\n",
       "0      2  0.500000    3.694055            -\n",
       "1      4  0.250000  3.66155995  -0.01083184\n",
       "2      8  0.125000  3.65340371  -0.00271875\n",
       "3     16  0.062500  3.65136258  -0.00068038\n",
       "4     32  0.031250  3.65085217  -0.00017014\n",
       "5     64  0.015625  3.65072456  -0.00004254\n",
       "6    128  0.007812  3.65069265  -0.00001063\n",
       "7    256  0.003906  3.65068468  -0.00000266\n",
       "8    512  0.001953  3.65068268  -0.00000066\n",
       "9   1024  0.000977  3.65068219  -0.00000017\n",
       "10  2048  0.000488  3.65068206  -0.00000004"
      ]
     },
     "execution_count": 10,
     "metadata": {},
     "output_type": "execute_result"
    }
   ],
   "source": [
    "compute_integral(trapeze_formula, eps, a, b, 2)"
   ]
  },
  {
   "cell_type": "code",
   "execution_count": 11,
   "id": "b0493ae8",
   "metadata": {},
   "outputs": [
    {
     "data": {
      "text/html": [
       "<div>\n",
       "<style scoped>\n",
       "    .dataframe tbody tr th:only-of-type {\n",
       "        vertical-align: middle;\n",
       "    }\n",
       "\n",
       "    .dataframe tbody tr th {\n",
       "        vertical-align: top;\n",
       "    }\n",
       "\n",
       "    .dataframe thead th {\n",
       "        text-align: right;\n",
       "    }\n",
       "</style>\n",
       "<table border=\"1\" class=\"dataframe\">\n",
       "  <thead>\n",
       "    <tr style=\"text-align: right;\">\n",
       "      <th></th>\n",
       "      <th>N</th>\n",
       "      <th>h</th>\n",
       "      <th>$Q_h$</th>\n",
       "      <th>$R_h$</th>\n",
       "    </tr>\n",
       "  </thead>\n",
       "  <tbody>\n",
       "    <tr>\n",
       "      <th>0</th>\n",
       "      <td>2</td>\n",
       "      <td>0.5000</td>\n",
       "      <td>3.650728</td>\n",
       "      <td>-</td>\n",
       "    </tr>\n",
       "    <tr>\n",
       "      <th>1</th>\n",
       "      <td>4</td>\n",
       "      <td>0.2500</td>\n",
       "      <td>3.65068496</td>\n",
       "      <td>-0.00000288</td>\n",
       "    </tr>\n",
       "    <tr>\n",
       "      <th>2</th>\n",
       "      <td>8</td>\n",
       "      <td>0.1250</td>\n",
       "      <td>3.65068221</td>\n",
       "      <td>-0.00000018</td>\n",
       "    </tr>\n",
       "    <tr>\n",
       "      <th>3</th>\n",
       "      <td>16</td>\n",
       "      <td>0.0625</td>\n",
       "      <td>3.65068203</td>\n",
       "      <td>-0.00000001</td>\n",
       "    </tr>\n",
       "  </tbody>\n",
       "</table>\n",
       "</div>"
      ],
      "text/plain": [
       "    N       h       $Q_h$        $R_h$\n",
       "0   2  0.5000    3.650728            -\n",
       "1   4  0.2500  3.65068496  -0.00000288\n",
       "2   8  0.1250  3.65068221  -0.00000018\n",
       "3  16  0.0625  3.65068203  -0.00000001"
      ]
     },
     "execution_count": 11,
     "metadata": {},
     "output_type": "execute_result"
    }
   ],
   "source": [
    "compute_integral(simpson_formula, eps, a, b, 4)"
   ]
  },
  {
   "cell_type": "code",
   "execution_count": 18,
   "id": "ab468255",
   "metadata": {},
   "outputs": [],
   "source": [
    "k = 4\n",
    "A = [0.347854845137454, 0.652145154862546, 0.652145154862546, 0.347854845137454]\n",
    "x = [-0.861136311594053, -0.339981043584856, 0.339981043584856, 0.861136311594053]\n",
    "\n",
    "def kf_nast(A, x, a, b, f):\n",
    "    ft = map(lambda xk: f((b - a) / 2 * xk + (a + b) / 2), x)\n",
    "    return (b - a) / 2 * sum(map(lambda x, y: x * y, A, ft))"
   ]
  },
  {
   "cell_type": "code",
   "execution_count": 19,
   "id": "5f5afb11",
   "metadata": {},
   "outputs": [
    {
     "data": {
      "text/plain": [
       "3.6506819749541046"
      ]
     },
     "execution_count": 19,
     "metadata": {},
     "output_type": "execute_result"
    }
   ],
   "source": [
    "kf_nast(A, x, a, b, func)"
   ]
  }
 ],
 "metadata": {
  "kernelspec": {
   "display_name": "Python 3 (ipykernel)",
   "language": "python",
   "name": "python3"
  },
  "language_info": {
   "codemirror_mode": {
    "name": "ipython",
    "version": 3
   },
   "file_extension": ".py",
   "mimetype": "text/x-python",
   "name": "python",
   "nbconvert_exporter": "python",
   "pygments_lexer": "ipython3",
   "version": "3.9.7"
  }
 },
 "nbformat": 4,
 "nbformat_minor": 5
}
